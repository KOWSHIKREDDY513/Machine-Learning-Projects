{
 "cells": [
  {
   "cell_type": "markdown",
   "metadata": {
    "ExecuteTime": {
     "end_time": "2021-06-30T04:09:18.406269Z",
     "start_time": "2021-06-30T04:09:18.235612Z"
    }
   },
   "source": [
    "# PS 1 - Twitter API"
   ]
  },
  {
   "cell_type": "markdown",
   "metadata": {},
   "source": [
    "* You work in a news agancy & is responsible for identifying most important topic for writing articles by your content team.\n",
    "* Develop a Jupyter Notebook which on executing everytime shows top 10 twitter trending topic in India in last 24 hours.\n",
    "* Hints: Connecting with Twitter API. Bringing Dashboard like behaviour in jupyter notebook"
   ]
  },
  {
   "cell_type": "markdown",
   "metadata": {},
   "source": [
    "# Libraries"
   ]
  },
  {
   "cell_type": "code",
   "execution_count": 1,
   "metadata": {
    "ExecuteTime": {
     "end_time": "2021-06-30T04:24:52.087275Z",
     "start_time": "2021-06-30T04:24:51.796900Z"
    }
   },
   "outputs": [],
   "source": [
    "import tweepy\n",
    "import os"
   ]
  },
  {
   "cell_type": "markdown",
   "metadata": {},
   "source": [
    "# Twitter Developer Credentials"
   ]
  },
  {
   "cell_type": "markdown",
   "metadata": {},
   "source": [
    "* The first thing you need to do is to have a twitter developer account. \n",
    "* If this is your first to set up a twitter developer account, it may take time from twitter’s side to accept your request.\n",
    "* Once your account is accepted, you can click on the Developer Portal tab at your developer account and hover over your name     and select Apps from the dropdown. \n",
    "* There you can create a new app, you’ll be asked some questions regarding your app. \n",
    "* You should generate your tokens and it’s a good practice to save them at a password manager like passpack for example; it’s a   free software for storing and sharing passwords."
   ]
  },
  {
   "cell_type": "markdown",
   "metadata": {},
   "source": [
    "* Authentication and Authorization\n",
    "* Now, you have four credentials for your app:\n",
    "* API Key\n",
    "* API secret key\n",
    "* Access token\n",
    "* Access token secret"
   ]
  },
  {
   "cell_type": "markdown",
   "metadata": {},
   "source": [
    "## Environmental Variables "
   ]
  },
  {
   "cell_type": "code",
   "execution_count": 2,
   "metadata": {
    "ExecuteTime": {
     "end_time": "2021-06-30T04:24:59.379120Z",
     "start_time": "2021-06-30T04:24:59.371535Z"
    }
   },
   "outputs": [],
   "source": [
    "consumer_key = \"EFEsBHvdieKkp7LdGqnLhNVan\"\n",
    "consumer_secret = \"mKEy1gBXGrwpmcPITRIHSL1XvD9I5kMFkAm5oZtOAr36tz3lms\"\n",
    "access_token = \"1409440976410644480-ODCNYw7abTZ58TSz84TaejSCRJyoep\"\n",
    "access_token_secret = \"s4rMDaVfQdvUnjygZIOAJRwsMIehXXFsXo1AhblrviZIF\""
   ]
  },
  {
   "cell_type": "code",
   "execution_count": 3,
   "metadata": {
    "ExecuteTime": {
     "end_time": "2021-06-30T04:25:00.611089Z",
     "start_time": "2021-06-30T04:25:00.603682Z"
    }
   },
   "outputs": [],
   "source": [
    "auth = tweepy.OAuthHandler(consumer_key, consumer_secret)"
   ]
  },
  {
   "cell_type": "code",
   "execution_count": 4,
   "metadata": {
    "ExecuteTime": {
     "end_time": "2021-06-30T04:25:01.729212Z",
     "start_time": "2021-06-30T04:25:01.705087Z"
    }
   },
   "outputs": [],
   "source": [
    "auth.set_access_token(access_token, access_token_secret)"
   ]
  },
  {
   "cell_type": "code",
   "execution_count": 5,
   "metadata": {
    "ExecuteTime": {
     "end_time": "2021-06-30T04:25:02.729153Z",
     "start_time": "2021-06-30T04:25:02.721480Z"
    }
   },
   "outputs": [],
   "source": [
    "api = tweepy.API(auth)"
   ]
  },
  {
   "cell_type": "code",
   "execution_count": 6,
   "metadata": {
    "ExecuteTime": {
     "end_time": "2021-06-30T04:25:03.532152Z",
     "start_time": "2021-06-30T04:25:03.524760Z"
    }
   },
   "outputs": [],
   "source": [
    "woeid = 23424848 # woied for India"
   ]
  },
  {
   "cell_type": "markdown",
   "metadata": {},
   "source": [
    "## Available Trends "
   ]
  },
  {
   "cell_type": "code",
   "execution_count": 7,
   "metadata": {
    "ExecuteTime": {
     "end_time": "2021-06-30T04:25:07.872097Z",
     "start_time": "2021-06-30T04:25:06.476496Z"
    }
   },
   "outputs": [],
   "source": [
    "trends = api.trends_place(id = woeid)"
   ]
  },
  {
   "cell_type": "code",
   "execution_count": 8,
   "metadata": {
    "ExecuteTime": {
     "end_time": "2021-06-30T04:25:08.834836Z",
     "start_time": "2021-06-30T04:25:08.805380Z"
    }
   },
   "outputs": [
    {
     "name": "stdout",
     "output_type": "stream",
     "text": [
      "#wednesdaythought\n",
      "#WednesdayMotivation\n",
      "#GiftOfHome\n",
      "#4yearsofGST\n",
      "#TheGreatBoschGiveaway\n",
      "CBI Who Stole SSR Patents\n",
      "श्री गणेश\n",
      "NEIL BHATT ON FIRE\n",
      "Poolside\n",
      "दादाभाई नौरोजी\n",
      "Brazil\n",
      "Grand Old Man of India\n",
      "श्री राम\n",
      "Happier\n",
      "Jai Shri Ganesh\n",
      "Giannis\n",
      "Kunjwani\n",
      "olivia\n",
      "Singh Ji Insan\n",
      "BSNL\n",
      "उत्तम स्वास्थ्य\n",
      "Support Farmers\n",
      "LUKE HEMMINGS\n",
      "Saint Dr.\n",
      "Homely Shelter\n",
      "Happy Morning\n",
      "भारतीय जनता पार्टी\n",
      "GTA 6\n",
      "Happy Birthday Tai\n",
      "Good Morning Sir\n",
      "SGX Nifty\n",
      "श्री कृष्ण\n",
      "Virat Chavan\n",
      "CONAN\n",
      "Ram Ram\n",
      "श्री महाकालेश्वर\n",
      "Suprabhat\n",
      "Hawks\n",
      "Joonie\n",
      "Jai Shri Krishna\n",
      "Pfizer\n",
      "Morninggg\n",
      "Very Good Morning\n",
      "Jai Shree Ram\n",
      "Om Shanti\n",
      "Gud Morning\n",
      "Android 11\n",
      "Good Morning Friends\n",
      "Hare Krishna\n",
      "Jai Jagannath\n"
     ]
    }
   ],
   "source": [
    "for value in trends:\n",
    "    for trend in value['trends']:\n",
    "        print(trend['name'])"
   ]
  },
  {
   "cell_type": "markdown",
   "metadata": {},
   "source": [
    "## Top 10 Trending Hash Tags "
   ]
  },
  {
   "cell_type": "code",
   "execution_count": 9,
   "metadata": {
    "ExecuteTime": {
     "end_time": "2021-06-30T04:25:10.646584Z",
     "start_time": "2021-06-30T04:25:10.630857Z"
    }
   },
   "outputs": [
    {
     "name": "stdout",
     "output_type": "stream",
     "text": [
      "#wednesdaythought\n",
      "#WednesdayMotivation\n",
      "#GiftOfHome\n",
      "#4yearsofGST\n",
      "#TheGreatBoschGiveaway\n",
      "CBI Who Stole SSR Patents\n",
      "श्री गणेश\n",
      "NEIL BHATT ON FIRE\n",
      "Poolside\n",
      "दादाभाई नौरोजी\n"
     ]
    }
   ],
   "source": [
    "for i in range(10):\n",
    "    print(trends[0]['trends'][i]['name'])"
   ]
  },
  {
   "cell_type": "code",
   "execution_count": null,
   "metadata": {},
   "outputs": [],
   "source": []
  }
 ],
 "metadata": {
  "hide_input": false,
  "kernelspec": {
   "display_name": "Python 3",
   "language": "python",
   "name": "python3"
  },
  "language_info": {
   "codemirror_mode": {
    "name": "ipython",
    "version": 3
   },
   "file_extension": ".py",
   "mimetype": "text/x-python",
   "name": "python",
   "nbconvert_exporter": "python",
   "pygments_lexer": "ipython3",
   "version": "3.9.1"
  },
  "toc": {
   "base_numbering": 1,
   "nav_menu": {},
   "number_sections": true,
   "sideBar": true,
   "skip_h1_title": false,
   "title_cell": "Table of Contents",
   "title_sidebar": "Contents",
   "toc_cell": false,
   "toc_position": {},
   "toc_section_display": true,
   "toc_window_display": true
  },
  "varInspector": {
   "cols": {
    "lenName": 16,
    "lenType": 16,
    "lenVar": 40
   },
   "kernels_config": {
    "python": {
     "delete_cmd_postfix": "",
     "delete_cmd_prefix": "del ",
     "library": "var_list.py",
     "varRefreshCmd": "print(var_dic_list())"
    },
    "r": {
     "delete_cmd_postfix": ") ",
     "delete_cmd_prefix": "rm(",
     "library": "var_list.r",
     "varRefreshCmd": "cat(var_dic_list()) "
    }
   },
   "types_to_exclude": [
    "module",
    "function",
    "builtin_function_or_method",
    "instance",
    "_Feature"
   ],
   "window_display": false
  }
 },
 "nbformat": 4,
 "nbformat_minor": 5
}
