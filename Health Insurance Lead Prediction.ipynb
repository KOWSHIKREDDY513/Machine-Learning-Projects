{
 "cells": [
  {
   "cell_type": "markdown",
   "id": "weighted-nation",
   "metadata": {},
   "source": [
    "# Problem Statement"
   ]
  },
  {
   "cell_type": "markdown",
   "id": "simple-accordance",
   "metadata": {},
   "source": [
    "Health Insurance Lead Prediction\n",
    "Your Client FinMan is a financial services company that provides various financial services like loan, investment funds, insurance etc. to its customers. FinMan wishes to cross-sell health insurance to the existing customers who may or may not hold insurance policies with the company. The company recommend health insurance to it's customers based on their profile once these customers land on the website. Customers might browse the recommended health insurance policy and consequently fill up a form to apply. When these customers fill-up the form, their Response towards the policy is considered positive and they are classified as a lead.\n",
    "\n",
    "Once these leads are acquired, the sales advisors approach them to convert and thus the company can sell proposed health insurance to these leads in a more efficient manner.\n",
    "\n",
    "Now the company needs your help in building a model to predict whether the person will be interested in their proposed Health plan/policy given the information about:\n",
    "\n",
    "Demographics (city, age, region etc.)\n",
    "Information regarding holding policies of the customer\n",
    "Recommended Policy Information"
   ]
  },
  {
   "cell_type": "markdown",
   "id": "neutral-fifteen",
   "metadata": {},
   "source": [
    "# Table of Content"
   ]
  },
  {
   "cell_type": "markdown",
   "id": "impossible-japan",
   "metadata": {},
   "source": [
    "Step 1: Importing the Relevant Libraries\n",
    "\n",
    "Step 2: Data Inspection\n",
    "\n",
    "Step 3: Data Cleaning\n",
    "\n",
    "Step 4: Exploratory Data Analysis\n",
    "\n",
    "Step 5: Building Model"
   ]
  },
  {
   "cell_type": "markdown",
   "id": "apart-calvin",
   "metadata": {},
   "source": [
    "## Importing the Relevant Libraries"
   ]
  },
  {
   "cell_type": "code",
   "execution_count": 1,
   "id": "minus-elephant",
   "metadata": {},
   "outputs": [],
   "source": [
    "import numpy as np\n",
    "import pandas as pd\n",
    "import matplotlib.pyplot as plt\n",
    "import seaborn as sns\n",
    "%matplotlib inline\n",
    "\n",
    "import warnings\n",
    "warnings.filterwarnings('always')\n",
    "warnings.filterwarnings('ignore')"
   ]
  },
  {
   "cell_type": "markdown",
   "id": "inappropriate-multiple",
   "metadata": {},
   "source": [
    "## Data Inspection"
   ]
  },
  {
   "cell_type": "code",
   "execution_count": 2,
   "id": "accessible-regular",
   "metadata": {},
   "outputs": [],
   "source": [
    "train = pd.read_csv(r\"C:\\Users\\KOWSHIK REDDY\\Desktop\\Git Hub\\train.csv\",encoding=\"latin\")"
   ]
  },
  {
   "cell_type": "code",
   "execution_count": 3,
   "id": "removed-andorra",
   "metadata": {},
   "outputs": [
    {
     "data": {
      "text/html": [
       "<div>\n",
       "<style scoped>\n",
       "    .dataframe tbody tr th:only-of-type {\n",
       "        vertical-align: middle;\n",
       "    }\n",
       "\n",
       "    .dataframe tbody tr th {\n",
       "        vertical-align: top;\n",
       "    }\n",
       "\n",
       "    .dataframe thead th {\n",
       "        text-align: right;\n",
       "    }\n",
       "</style>\n",
       "<table border=\"1\" class=\"dataframe\">\n",
       "  <thead>\n",
       "    <tr style=\"text-align: right;\">\n",
       "      <th></th>\n",
       "      <th>ID</th>\n",
       "      <th>City_Code</th>\n",
       "      <th>Region_Code</th>\n",
       "      <th>Accomodation_Type</th>\n",
       "      <th>Reco_Insurance_Type</th>\n",
       "      <th>Upper_Age</th>\n",
       "      <th>Lower_Age</th>\n",
       "      <th>Is_Spouse</th>\n",
       "      <th>Health Indicator</th>\n",
       "      <th>Holding_Policy_Duration</th>\n",
       "      <th>Holding_Policy_Type</th>\n",
       "      <th>Reco_Policy_Cat</th>\n",
       "      <th>Reco_Policy_Premium</th>\n",
       "      <th>Response</th>\n",
       "    </tr>\n",
       "  </thead>\n",
       "  <tbody>\n",
       "    <tr>\n",
       "      <th>0</th>\n",
       "      <td>1</td>\n",
       "      <td>C3</td>\n",
       "      <td>3213</td>\n",
       "      <td>Rented</td>\n",
       "      <td>Individual</td>\n",
       "      <td>36</td>\n",
       "      <td>36</td>\n",
       "      <td>No</td>\n",
       "      <td>X1</td>\n",
       "      <td>14+</td>\n",
       "      <td>3.0</td>\n",
       "      <td>22</td>\n",
       "      <td>11628.0</td>\n",
       "      <td>0</td>\n",
       "    </tr>\n",
       "    <tr>\n",
       "      <th>1</th>\n",
       "      <td>2</td>\n",
       "      <td>C5</td>\n",
       "      <td>1117</td>\n",
       "      <td>Owned</td>\n",
       "      <td>Joint</td>\n",
       "      <td>75</td>\n",
       "      <td>22</td>\n",
       "      <td>No</td>\n",
       "      <td>X2</td>\n",
       "      <td>NaN</td>\n",
       "      <td>NaN</td>\n",
       "      <td>22</td>\n",
       "      <td>30510.0</td>\n",
       "      <td>0</td>\n",
       "    </tr>\n",
       "    <tr>\n",
       "      <th>2</th>\n",
       "      <td>3</td>\n",
       "      <td>C5</td>\n",
       "      <td>3732</td>\n",
       "      <td>Owned</td>\n",
       "      <td>Individual</td>\n",
       "      <td>32</td>\n",
       "      <td>32</td>\n",
       "      <td>No</td>\n",
       "      <td>NaN</td>\n",
       "      <td>1.0</td>\n",
       "      <td>1.0</td>\n",
       "      <td>19</td>\n",
       "      <td>7450.0</td>\n",
       "      <td>1</td>\n",
       "    </tr>\n",
       "    <tr>\n",
       "      <th>3</th>\n",
       "      <td>4</td>\n",
       "      <td>C24</td>\n",
       "      <td>4378</td>\n",
       "      <td>Owned</td>\n",
       "      <td>Joint</td>\n",
       "      <td>52</td>\n",
       "      <td>48</td>\n",
       "      <td>No</td>\n",
       "      <td>X1</td>\n",
       "      <td>14+</td>\n",
       "      <td>3.0</td>\n",
       "      <td>19</td>\n",
       "      <td>17780.0</td>\n",
       "      <td>0</td>\n",
       "    </tr>\n",
       "    <tr>\n",
       "      <th>4</th>\n",
       "      <td>5</td>\n",
       "      <td>C8</td>\n",
       "      <td>2190</td>\n",
       "      <td>Rented</td>\n",
       "      <td>Individual</td>\n",
       "      <td>44</td>\n",
       "      <td>44</td>\n",
       "      <td>No</td>\n",
       "      <td>X2</td>\n",
       "      <td>3.0</td>\n",
       "      <td>1.0</td>\n",
       "      <td>16</td>\n",
       "      <td>10404.0</td>\n",
       "      <td>0</td>\n",
       "    </tr>\n",
       "    <tr>\n",
       "      <th>...</th>\n",
       "      <td>...</td>\n",
       "      <td>...</td>\n",
       "      <td>...</td>\n",
       "      <td>...</td>\n",
       "      <td>...</td>\n",
       "      <td>...</td>\n",
       "      <td>...</td>\n",
       "      <td>...</td>\n",
       "      <td>...</td>\n",
       "      <td>...</td>\n",
       "      <td>...</td>\n",
       "      <td>...</td>\n",
       "      <td>...</td>\n",
       "      <td>...</td>\n",
       "    </tr>\n",
       "    <tr>\n",
       "      <th>50877</th>\n",
       "      <td>50878</td>\n",
       "      <td>C4</td>\n",
       "      <td>845</td>\n",
       "      <td>Rented</td>\n",
       "      <td>Individual</td>\n",
       "      <td>22</td>\n",
       "      <td>22</td>\n",
       "      <td>No</td>\n",
       "      <td>X3</td>\n",
       "      <td>NaN</td>\n",
       "      <td>NaN</td>\n",
       "      <td>18</td>\n",
       "      <td>7704.0</td>\n",
       "      <td>0</td>\n",
       "    </tr>\n",
       "    <tr>\n",
       "      <th>50878</th>\n",
       "      <td>50879</td>\n",
       "      <td>C5</td>\n",
       "      <td>4188</td>\n",
       "      <td>Rented</td>\n",
       "      <td>Individual</td>\n",
       "      <td>27</td>\n",
       "      <td>27</td>\n",
       "      <td>No</td>\n",
       "      <td>X3</td>\n",
       "      <td>7.0</td>\n",
       "      <td>3.0</td>\n",
       "      <td>4</td>\n",
       "      <td>5408.0</td>\n",
       "      <td>0</td>\n",
       "    </tr>\n",
       "    <tr>\n",
       "      <th>50879</th>\n",
       "      <td>50880</td>\n",
       "      <td>C1</td>\n",
       "      <td>442</td>\n",
       "      <td>Rented</td>\n",
       "      <td>Individual</td>\n",
       "      <td>63</td>\n",
       "      <td>63</td>\n",
       "      <td>No</td>\n",
       "      <td>X2</td>\n",
       "      <td>14+</td>\n",
       "      <td>1.0</td>\n",
       "      <td>12</td>\n",
       "      <td>11374.0</td>\n",
       "      <td>0</td>\n",
       "    </tr>\n",
       "    <tr>\n",
       "      <th>50880</th>\n",
       "      <td>50881</td>\n",
       "      <td>C1</td>\n",
       "      <td>4</td>\n",
       "      <td>Owned</td>\n",
       "      <td>Joint</td>\n",
       "      <td>71</td>\n",
       "      <td>49</td>\n",
       "      <td>No</td>\n",
       "      <td>X2</td>\n",
       "      <td>2.0</td>\n",
       "      <td>2.0</td>\n",
       "      <td>16</td>\n",
       "      <td>28179.2</td>\n",
       "      <td>1</td>\n",
       "    </tr>\n",
       "    <tr>\n",
       "      <th>50881</th>\n",
       "      <td>50882</td>\n",
       "      <td>C3</td>\n",
       "      <td>3866</td>\n",
       "      <td>Rented</td>\n",
       "      <td>Individual</td>\n",
       "      <td>24</td>\n",
       "      <td>24</td>\n",
       "      <td>No</td>\n",
       "      <td>X3</td>\n",
       "      <td>2.0</td>\n",
       "      <td>3.0</td>\n",
       "      <td>18</td>\n",
       "      <td>11424.0</td>\n",
       "      <td>0</td>\n",
       "    </tr>\n",
       "  </tbody>\n",
       "</table>\n",
       "<p>50882 rows × 14 columns</p>\n",
       "</div>"
      ],
      "text/plain": [
       "          ID City_Code  Region_Code Accomodation_Type Reco_Insurance_Type  \\\n",
       "0          1        C3         3213            Rented          Individual   \n",
       "1          2        C5         1117             Owned               Joint   \n",
       "2          3        C5         3732             Owned          Individual   \n",
       "3          4       C24         4378             Owned               Joint   \n",
       "4          5        C8         2190            Rented          Individual   \n",
       "...      ...       ...          ...               ...                 ...   \n",
       "50877  50878        C4          845            Rented          Individual   \n",
       "50878  50879        C5         4188            Rented          Individual   \n",
       "50879  50880        C1          442            Rented          Individual   \n",
       "50880  50881        C1            4             Owned               Joint   \n",
       "50881  50882        C3         3866            Rented          Individual   \n",
       "\n",
       "       Upper_Age  Lower_Age Is_Spouse Health Indicator  \\\n",
       "0             36         36        No               X1   \n",
       "1             75         22        No               X2   \n",
       "2             32         32        No              NaN   \n",
       "3             52         48        No               X1   \n",
       "4             44         44        No               X2   \n",
       "...          ...        ...       ...              ...   \n",
       "50877         22         22        No               X3   \n",
       "50878         27         27        No               X3   \n",
       "50879         63         63        No               X2   \n",
       "50880         71         49        No               X2   \n",
       "50881         24         24        No               X3   \n",
       "\n",
       "      Holding_Policy_Duration  Holding_Policy_Type  Reco_Policy_Cat  \\\n",
       "0                         14+                  3.0               22   \n",
       "1                         NaN                  NaN               22   \n",
       "2                         1.0                  1.0               19   \n",
       "3                         14+                  3.0               19   \n",
       "4                         3.0                  1.0               16   \n",
       "...                       ...                  ...              ...   \n",
       "50877                     NaN                  NaN               18   \n",
       "50878                     7.0                  3.0                4   \n",
       "50879                     14+                  1.0               12   \n",
       "50880                     2.0                  2.0               16   \n",
       "50881                     2.0                  3.0               18   \n",
       "\n",
       "       Reco_Policy_Premium  Response  \n",
       "0                  11628.0         0  \n",
       "1                  30510.0         0  \n",
       "2                   7450.0         1  \n",
       "3                  17780.0         0  \n",
       "4                  10404.0         0  \n",
       "...                    ...       ...  \n",
       "50877               7704.0         0  \n",
       "50878               5408.0         0  \n",
       "50879              11374.0         0  \n",
       "50880              28179.2         1  \n",
       "50881              11424.0         0  \n",
       "\n",
       "[50882 rows x 14 columns]"
      ]
     },
     "execution_count": 3,
     "metadata": {},
     "output_type": "execute_result"
    }
   ],
   "source": [
    "train"
   ]
  },
  {
   "cell_type": "markdown",
   "id": "higher-alaska",
   "metadata": {},
   "source": [
    "        * we have Two data sets Train and Test.\n",
    "        * in Training data sets we have 50882 rows x 14 columns.\n",
    "        * In Testing Data Set we have 21805 rows x 13 columns."
   ]
  },
  {
   "cell_type": "code",
   "execution_count": 4,
   "id": "continued-world",
   "metadata": {},
   "outputs": [
    {
     "data": {
      "text/plain": [
       "ID                          0.000000\n",
       "City_Code                   0.000000\n",
       "Region_Code                 0.000000\n",
       "Accomodation_Type           0.000000\n",
       "Reco_Insurance_Type         0.000000\n",
       "Upper_Age                   0.000000\n",
       "Lower_Age                   0.000000\n",
       "Is_Spouse                   0.000000\n",
       "Health Indicator           22.976691\n",
       "Holding_Policy_Duration    39.799929\n",
       "Holding_Policy_Type        39.799929\n",
       "Reco_Policy_Cat             0.000000\n",
       "Reco_Policy_Premium         0.000000\n",
       "Response                    0.000000\n",
       "dtype: float64"
      ]
     },
     "execution_count": 4,
     "metadata": {},
     "output_type": "execute_result"
    }
   ],
   "source": [
    "# Ratio of null valves\n",
    "train.isnull().sum() / train.shape[0]*100"
   ]
  },
  {
   "cell_type": "markdown",
   "id": "serious-binary",
   "metadata": {},
   "source": [
    "        * we have 22.976691 of missing valves in Health Indicator.\n",
    "        * we have 39.799929 of missing valves in Holding_Policy_Duration.\n",
    "        * we have 39.799929 of missing valves in Holding_Policy_Type."
   ]
  },
  {
   "cell_type": "code",
   "execution_count": 5,
   "id": "pharmaceutical-punishment",
   "metadata": {},
   "outputs": [
    {
     "data": {
      "text/plain": [
       "ID                           int64\n",
       "City_Code                   object\n",
       "Region_Code                  int64\n",
       "Accomodation_Type           object\n",
       "Reco_Insurance_Type         object\n",
       "Upper_Age                    int64\n",
       "Lower_Age                    int64\n",
       "Is_Spouse                   object\n",
       "Health Indicator            object\n",
       "Holding_Policy_Duration     object\n",
       "Holding_Policy_Type        float64\n",
       "Reco_Policy_Cat              int64\n",
       "Reco_Policy_Premium        float64\n",
       "Response                     int64\n",
       "dtype: object"
      ]
     },
     "execution_count": 5,
     "metadata": {},
     "output_type": "execute_result"
    }
   ],
   "source": [
    "train.dtypes"
   ]
  },
  {
   "cell_type": "markdown",
   "id": "provincial-accreditation",
   "metadata": {},
   "source": [
    "## Data Cleaning"
   ]
  },
  {
   "cell_type": "code",
   "execution_count": 6,
   "id": "incoming-accreditation",
   "metadata": {},
   "outputs": [
    {
     "data": {
      "text/plain": [
       "Index(['ID', 'City_Code', 'Region_Code', 'Accomodation_Type',\n",
       "       'Reco_Insurance_Type', 'Upper_Age', 'Lower_Age', 'Is_Spouse',\n",
       "       'Health Indicator', 'Holding_Policy_Duration', 'Holding_Policy_Type',\n",
       "       'Reco_Policy_Cat', 'Reco_Policy_Premium', 'Response'],\n",
       "      dtype='object')"
      ]
     },
     "execution_count": 6,
     "metadata": {},
     "output_type": "execute_result"
    }
   ],
   "source": [
    "train.columns"
   ]
  },
  {
   "cell_type": "markdown",
   "id": "cutting-distribution",
   "metadata": {},
   "source": [
    "Why missing values treatment is required? Missing data in the training data set can reduce the power / fit of a model or can lead to a biased model because we have not analysed the behavior and relationship with other variables correctly. It can lead to wrong prediction."
   ]
  },
  {
   "cell_type": "code",
   "execution_count": 7,
   "id": "tutorial-program",
   "metadata": {},
   "outputs": [
    {
     "data": {
      "text/plain": [
       "ID                             0\n",
       "City_Code                      0\n",
       "Region_Code                    0\n",
       "Accomodation_Type              0\n",
       "Reco_Insurance_Type            0\n",
       "Upper_Age                      0\n",
       "Lower_Age                      0\n",
       "Is_Spouse                      0\n",
       "Health Indicator           11691\n",
       "Holding_Policy_Duration    20251\n",
       "Holding_Policy_Type        20251\n",
       "Reco_Policy_Cat                0\n",
       "Reco_Policy_Premium            0\n",
       "Response                       0\n",
       "dtype: int64"
      ]
     },
     "execution_count": 7,
     "metadata": {},
     "output_type": "execute_result"
    }
   ],
   "source": [
    "train.isnull().sum()"
   ]
  },
  {
   "cell_type": "markdown",
   "id": "martial-highland",
   "metadata": {},
   "source": [
    "        * here,Health Indicator is a categorical feature\n",
    "        * here,Holding_Policy_Duration is a numerical feature\n",
    "        * here,Holding_Policy_Type is a numerical feature"
   ]
  },
  {
   "cell_type": "markdown",
   "id": "stuffed-right",
   "metadata": {},
   "source": [
    "        * firstly , i replace null valves in missing data."
   ]
  },
  {
   "cell_type": "code",
   "execution_count": 8,
   "id": "legislative-shanghai",
   "metadata": {},
   "outputs": [],
   "source": [
    "# it is a categorical data. so i used to replace with mode.\n",
    "train[\"Health Indicator\"].fillna(train[\"Health Indicator\"].mode()[0],inplace=True)"
   ]
  },
  {
   "cell_type": "code",
   "execution_count": 9,
   "id": "apart-electric",
   "metadata": {},
   "outputs": [],
   "source": [
    "# remain both are numerical data. so i used to fill with mean.\n",
    "train[\"Holding_Policy_Duration\"].fillna(train[\"Holding_Policy_Duration\"].mode()[0],inplace=True)\n",
    "train[\"Holding_Policy_Type\"].fillna(train[\"Holding_Policy_Type\"].mode()[0],inplace=True)"
   ]
  },
  {
   "cell_type": "code",
   "execution_count": 10,
   "id": "original-anger",
   "metadata": {},
   "outputs": [
    {
     "data": {
      "text/plain": [
       "ID                         0\n",
       "City_Code                  0\n",
       "Region_Code                0\n",
       "Accomodation_Type          0\n",
       "Reco_Insurance_Type        0\n",
       "Upper_Age                  0\n",
       "Lower_Age                  0\n",
       "Is_Spouse                  0\n",
       "Health Indicator           0\n",
       "Holding_Policy_Duration    0\n",
       "Holding_Policy_Type        0\n",
       "Reco_Policy_Cat            0\n",
       "Reco_Policy_Premium        0\n",
       "Response                   0\n",
       "dtype: int64"
      ]
     },
     "execution_count": 10,
     "metadata": {},
     "output_type": "execute_result"
    }
   ],
   "source": [
    "train.isnull().sum()"
   ]
  },
  {
   "cell_type": "markdown",
   "id": "cordless-price",
   "metadata": {},
   "source": [
    "        * Here,we have special char in data set.\n",
    "        * so i want to replace him."
   ]
  },
  {
   "cell_type": "code",
   "execution_count": 11,
   "id": "celtic-threat",
   "metadata": {},
   "outputs": [],
   "source": [
    "# converting dtype to string \n",
    "train[\"Holding_Policy_Duration\"] = train[\"Holding_Policy_Duration\"].astype(\"str\")\n",
    "# removing\n",
    "train[\"Holding_Policy_Duration\"] = train[\"Holding_Policy_Duration\"].str.replace(\"+\",\" \")"
   ]
  },
  {
   "cell_type": "markdown",
   "id": "confused-solution",
   "metadata": {},
   "source": [
    "        *Now, i convert Holding_Policy_Duration and Holding_Policy_Type into int format."
   ]
  },
  {
   "cell_type": "code",
   "execution_count": 12,
   "id": "senior-persian",
   "metadata": {},
   "outputs": [],
   "source": [
    "# float to int data type.\n",
    "train[\"Holding_Policy_Duration\"] = train[\"Holding_Policy_Duration\"].astype(dtype=float)\n",
    "train[\"Holding_Policy_Duration\"] = train[\"Holding_Policy_Duration\"].astype(dtype=int)\n",
    "train[\"Holding_Policy_Type\"] = train[\"Holding_Policy_Type\"].astype(dtype=int)\n",
    "train[\"Reco_Policy_Premium\"] = train[\"Reco_Policy_Premium\"].astype(dtype=int) \n",
    "train[\"City_Code\"] = train[\"City_Code\"].astype(dtype=str)"
   ]
  },
  {
   "cell_type": "code",
   "execution_count": 13,
   "id": "extraordinary-participant",
   "metadata": {},
   "outputs": [
    {
     "data": {
      "text/plain": [
       "ID                          int64\n",
       "City_Code                  object\n",
       "Region_Code                 int64\n",
       "Accomodation_Type          object\n",
       "Reco_Insurance_Type        object\n",
       "Upper_Age                   int64\n",
       "Lower_Age                   int64\n",
       "Is_Spouse                  object\n",
       "Health Indicator           object\n",
       "Holding_Policy_Duration     int32\n",
       "Holding_Policy_Type         int32\n",
       "Reco_Policy_Cat             int64\n",
       "Reco_Policy_Premium         int32\n",
       "Response                    int64\n",
       "dtype: object"
      ]
     },
     "execution_count": 13,
     "metadata": {},
     "output_type": "execute_result"
    }
   ],
   "source": [
    "train.dtypes"
   ]
  },
  {
   "cell_type": "markdown",
   "id": "adult-dairy",
   "metadata": {},
   "source": [
    "## Outlier detection "
   ]
  },
  {
   "cell_type": "code",
   "execution_count": 14,
   "id": "plain-diving",
   "metadata": {},
   "outputs": [
    {
     "data": {
      "text/plain": [
       "<AxesSubplot:xlabel='Holding_Policy_Duration'>"
      ]
     },
     "execution_count": 14,
     "metadata": {},
     "output_type": "execute_result"
    },
    {
     "data": {
      "image/png": "[encoded data removed]",
      "text/plain": [
       "<Figure size 576x360 with 1 Axes>"
      ]
     },
     "metadata": {
      "needs_background": "light"
     },
     "output_type": "display_data"
    }
   ],
   "source": [
    "plt.figure(figsize=(8,5))\n",
    "sns.boxplot('Holding_Policy_Duration',data=train)"
   ]
  },
  {
   "cell_type": "markdown",
   "id": "historical-ghost",
   "metadata": {},
   "source": [
    "        * here identify the outliers in data set.\n",
    "        * so want to remove outliers in data set."
   ]
  },
  {
   "cell_type": "code",
   "execution_count": 15,
   "id": "applied-joint",
   "metadata": {},
   "outputs": [],
   "source": [
    "# Removing skewness in LoanAmount variable by log transformation\n",
    "train[\"Holding_Policy_Duration\"] = np.log(train[\"Holding_Policy_Duration\"])"
   ]
  },
  {
   "cell_type": "code",
   "execution_count": 16,
   "id": "final-leisure",
   "metadata": {
    "scrolled": true
   },
   "outputs": [
    {
     "data": {
      "text/plain": [
       "<AxesSubplot:xlabel='Holding_Policy_Duration'>"
      ]
     },
     "execution_count": 16,
     "metadata": {},
     "output_type": "execute_result"
    },
    {
     "data": {
      "image/png": "[encoded data removed]",
      "text/plain": [
       "<Figure size 576x360 with 1 Axes>"
      ]
     },
     "metadata": {
      "needs_background": "light"
     },
     "output_type": "display_data"
    }
   ],
   "source": [
    "plt.figure(figsize=(8,5))\n",
    "sns.boxplot('Holding_Policy_Duration',data=train)"
   ]
  },
  {
   "cell_type": "code",
   "execution_count": 17,
   "id": "broad-riverside",
   "metadata": {},
   "outputs": [
    {
     "data": {
      "text/plain": [
       "<AxesSubplot:xlabel='Holding_Policy_Type'>"
      ]
     },
     "execution_count": 17,
     "metadata": {},
     "output_type": "execute_result"
    },
    {
     "data": {
      "image/png": "[encoded data removed]",
      "text/plain": [
       "<Figure size 576x360 with 1 Axes>"
      ]
     },
     "metadata": {
      "needs_background": "light"
     },
     "output_type": "display_data"
    }
   ],
   "source": [
    "plt.figure(figsize=(8,5))\n",
    "sns.boxplot('Holding_Policy_Type',data=train)\n",
    "\n",
    "# here we dont have any outliers in data set."
   ]
  },
  {
   "cell_type": "code",
   "execution_count": 18,
   "id": "musical-villa",
   "metadata": {},
   "outputs": [
    {
     "data": {
      "text/plain": [
       "(50882, 14)"
      ]
     },
     "execution_count": 18,
     "metadata": {},
     "output_type": "execute_result"
    }
   ],
   "source": [
    "# finally, train data set\n",
    "train.shape"
   ]
  },
  {
   "cell_type": "markdown",
   "id": "stainless-summer",
   "metadata": {},
   "source": [
    "## Inconsistent type : like Capitalization "
   ]
  },
  {
   "cell_type": "markdown",
   "id": "creative-pastor",
   "metadata": {},
   "source": [
    "    * if your data has some inconsistence format.\n",
    "    * we interpret the data because machine does not understands the formats.\n",
    "    * here i convert to lower case letters."
   ]
  },
  {
   "cell_type": "code",
   "execution_count": 19,
   "id": "prompt-giant",
   "metadata": {},
   "outputs": [],
   "source": [
    "# train data\n",
    "train[\"City_Code\"] = train[\"City_Code\"].str.lower()\n",
    "train[\"Accomodation_Type\"] = train[\"Accomodation_Type\"].str.lower()\n",
    "train[\"Reco_Insurance_Type\"] = train[\"Reco_Insurance_Type\"].str.lower()\n",
    "train[\"Is_Spouse\"] = train[\"Is_Spouse\"].str.lower()\n",
    "train[\"Health Indicator\"] = train[\"Health Indicator\"].str.lower()"
   ]
  },
  {
   "cell_type": "code",
   "execution_count": 20,
   "id": "related-notification",
   "metadata": {},
   "outputs": [
    {
     "data": {
      "text/html": [
       "<div>\n",
       "<style scoped>\n",
       "    .dataframe tbody tr th:only-of-type {\n",
       "        vertical-align: middle;\n",
       "    }\n",
       "\n",
       "    .dataframe tbody tr th {\n",
       "        vertical-align: top;\n",
       "    }\n",
       "\n",
       "    .dataframe thead th {\n",
       "        text-align: right;\n",
       "    }\n",
       "</style>\n",
       "<table border=\"1\" class=\"dataframe\">\n",
       "  <thead>\n",
       "    <tr style=\"text-align: right;\">\n",
       "      <th></th>\n",
       "      <th>ID</th>\n",
       "      <th>City_Code</th>\n",
       "      <th>Region_Code</th>\n",
       "      <th>Accomodation_Type</th>\n",
       "      <th>Reco_Insurance_Type</th>\n",
       "      <th>Upper_Age</th>\n",
       "      <th>Lower_Age</th>\n",
       "      <th>Is_Spouse</th>\n",
       "      <th>Health Indicator</th>\n",
       "      <th>Holding_Policy_Duration</th>\n",
       "      <th>Holding_Policy_Type</th>\n",
       "      <th>Reco_Policy_Cat</th>\n",
       "      <th>Reco_Policy_Premium</th>\n",
       "      <th>Response</th>\n",
       "    </tr>\n",
       "  </thead>\n",
       "  <tbody>\n",
       "    <tr>\n",
       "      <th>0</th>\n",
       "      <td>1</td>\n",
       "      <td>c3</td>\n",
       "      <td>3213</td>\n",
       "      <td>rented</td>\n",
       "      <td>individual</td>\n",
       "      <td>36</td>\n",
       "      <td>36</td>\n",
       "      <td>no</td>\n",
       "      <td>x1</td>\n",
       "      <td>2.639057</td>\n",
       "      <td>3</td>\n",
       "      <td>22</td>\n",
       "      <td>11628</td>\n",
       "      <td>0</td>\n",
       "    </tr>\n",
       "    <tr>\n",
       "      <th>1</th>\n",
       "      <td>2</td>\n",
       "      <td>c5</td>\n",
       "      <td>1117</td>\n",
       "      <td>owned</td>\n",
       "      <td>joint</td>\n",
       "      <td>75</td>\n",
       "      <td>22</td>\n",
       "      <td>no</td>\n",
       "      <td>x2</td>\n",
       "      <td>0.000000</td>\n",
       "      <td>3</td>\n",
       "      <td>22</td>\n",
       "      <td>30510</td>\n",
       "      <td>0</td>\n",
       "    </tr>\n",
       "    <tr>\n",
       "      <th>2</th>\n",
       "      <td>3</td>\n",
       "      <td>c5</td>\n",
       "      <td>3732</td>\n",
       "      <td>owned</td>\n",
       "      <td>individual</td>\n",
       "      <td>32</td>\n",
       "      <td>32</td>\n",
       "      <td>no</td>\n",
       "      <td>x1</td>\n",
       "      <td>0.000000</td>\n",
       "      <td>1</td>\n",
       "      <td>19</td>\n",
       "      <td>7450</td>\n",
       "      <td>1</td>\n",
       "    </tr>\n",
       "    <tr>\n",
       "      <th>3</th>\n",
       "      <td>4</td>\n",
       "      <td>c24</td>\n",
       "      <td>4378</td>\n",
       "      <td>owned</td>\n",
       "      <td>joint</td>\n",
       "      <td>52</td>\n",
       "      <td>48</td>\n",
       "      <td>no</td>\n",
       "      <td>x1</td>\n",
       "      <td>2.639057</td>\n",
       "      <td>3</td>\n",
       "      <td>19</td>\n",
       "      <td>17780</td>\n",
       "      <td>0</td>\n",
       "    </tr>\n",
       "    <tr>\n",
       "      <th>4</th>\n",
       "      <td>5</td>\n",
       "      <td>c8</td>\n",
       "      <td>2190</td>\n",
       "      <td>rented</td>\n",
       "      <td>individual</td>\n",
       "      <td>44</td>\n",
       "      <td>44</td>\n",
       "      <td>no</td>\n",
       "      <td>x2</td>\n",
       "      <td>1.098612</td>\n",
       "      <td>1</td>\n",
       "      <td>16</td>\n",
       "      <td>10404</td>\n",
       "      <td>0</td>\n",
       "    </tr>\n",
       "    <tr>\n",
       "      <th>...</th>\n",
       "      <td>...</td>\n",
       "      <td>...</td>\n",
       "      <td>...</td>\n",
       "      <td>...</td>\n",
       "      <td>...</td>\n",
       "      <td>...</td>\n",
       "      <td>...</td>\n",
       "      <td>...</td>\n",
       "      <td>...</td>\n",
       "      <td>...</td>\n",
       "      <td>...</td>\n",
       "      <td>...</td>\n",
       "      <td>...</td>\n",
       "      <td>...</td>\n",
       "    </tr>\n",
       "    <tr>\n",
       "      <th>50877</th>\n",
       "      <td>50878</td>\n",
       "      <td>c4</td>\n",
       "      <td>845</td>\n",
       "      <td>rented</td>\n",
       "      <td>individual</td>\n",
       "      <td>22</td>\n",
       "      <td>22</td>\n",
       "      <td>no</td>\n",
       "      <td>x3</td>\n",
       "      <td>0.000000</td>\n",
       "      <td>3</td>\n",
       "      <td>18</td>\n",
       "      <td>7704</td>\n",
       "      <td>0</td>\n",
       "    </tr>\n",
       "    <tr>\n",
       "      <th>50878</th>\n",
       "      <td>50879</td>\n",
       "      <td>c5</td>\n",
       "      <td>4188</td>\n",
       "      <td>rented</td>\n",
       "      <td>individual</td>\n",
       "      <td>27</td>\n",
       "      <td>27</td>\n",
       "      <td>no</td>\n",
       "      <td>x3</td>\n",
       "      <td>1.945910</td>\n",
       "      <td>3</td>\n",
       "      <td>4</td>\n",
       "      <td>5408</td>\n",
       "      <td>0</td>\n",
       "    </tr>\n",
       "    <tr>\n",
       "      <th>50879</th>\n",
       "      <td>50880</td>\n",
       "      <td>c1</td>\n",
       "      <td>442</td>\n",
       "      <td>rented</td>\n",
       "      <td>individual</td>\n",
       "      <td>63</td>\n",
       "      <td>63</td>\n",
       "      <td>no</td>\n",
       "      <td>x2</td>\n",
       "      <td>2.639057</td>\n",
       "      <td>1</td>\n",
       "      <td>12</td>\n",
       "      <td>11374</td>\n",
       "      <td>0</td>\n",
       "    </tr>\n",
       "    <tr>\n",
       "      <th>50880</th>\n",
       "      <td>50881</td>\n",
       "      <td>c1</td>\n",
       "      <td>4</td>\n",
       "      <td>owned</td>\n",
       "      <td>joint</td>\n",
       "      <td>71</td>\n",
       "      <td>49</td>\n",
       "      <td>no</td>\n",
       "      <td>x2</td>\n",
       "      <td>0.693147</td>\n",
       "      <td>2</td>\n",
       "      <td>16</td>\n",
       "      <td>28179</td>\n",
       "      <td>1</td>\n",
       "    </tr>\n",
       "    <tr>\n",
       "      <th>50881</th>\n",
       "      <td>50882</td>\n",
       "      <td>c3</td>\n",
       "      <td>3866</td>\n",
       "      <td>rented</td>\n",
       "      <td>individual</td>\n",
       "      <td>24</td>\n",
       "      <td>24</td>\n",
       "      <td>no</td>\n",
       "      <td>x3</td>\n",
       "      <td>0.693147</td>\n",
       "      <td>3</td>\n",
       "      <td>18</td>\n",
       "      <td>11424</td>\n",
       "      <td>0</td>\n",
       "    </tr>\n",
       "  </tbody>\n",
       "</table>\n",
       "<p>50882 rows × 14 columns</p>\n",
       "</div>"
      ],
      "text/plain": [
       "          ID City_Code  Region_Code Accomodation_Type Reco_Insurance_Type  \\\n",
       "0          1        c3         3213            rented          individual   \n",
       "1          2        c5         1117             owned               joint   \n",
       "2          3        c5         3732             owned          individual   \n",
       "3          4       c24         4378             owned               joint   \n",
       "4          5        c8         2190            rented          individual   \n",
       "...      ...       ...          ...               ...                 ...   \n",
       "50877  50878        c4          845            rented          individual   \n",
       "50878  50879        c5         4188            rented          individual   \n",
       "50879  50880        c1          442            rented          individual   \n",
       "50880  50881        c1            4             owned               joint   \n",
       "50881  50882        c3         3866            rented          individual   \n",
       "\n",
       "       Upper_Age  Lower_Age Is_Spouse Health Indicator  \\\n",
       "0             36         36        no               x1   \n",
       "1             75         22        no               x2   \n",
       "2             32         32        no               x1   \n",
       "3             52         48        no               x1   \n",
       "4             44         44        no               x2   \n",
       "...          ...        ...       ...              ...   \n",
       "50877         22         22        no               x3   \n",
       "50878         27         27        no               x3   \n",
       "50879         63         63        no               x2   \n",
       "50880         71         49        no               x2   \n",
       "50881         24         24        no               x3   \n",
       "\n",
       "       Holding_Policy_Duration  Holding_Policy_Type  Reco_Policy_Cat  \\\n",
       "0                     2.639057                    3               22   \n",
       "1                     0.000000                    3               22   \n",
       "2                     0.000000                    1               19   \n",
       "3                     2.639057                    3               19   \n",
       "4                     1.098612                    1               16   \n",
       "...                        ...                  ...              ...   \n",
       "50877                 0.000000                    3               18   \n",
       "50878                 1.945910                    3                4   \n",
       "50879                 2.639057                    1               12   \n",
       "50880                 0.693147                    2               16   \n",
       "50881                 0.693147                    3               18   \n",
       "\n",
       "       Reco_Policy_Premium  Response  \n",
       "0                    11628         0  \n",
       "1                    30510         0  \n",
       "2                     7450         1  \n",
       "3                    17780         0  \n",
       "4                    10404         0  \n",
       "...                    ...       ...  \n",
       "50877                 7704         0  \n",
       "50878                 5408         0  \n",
       "50879                11374         0  \n",
       "50880                28179         1  \n",
       "50881                11424         0  \n",
       "\n",
       "[50882 rows x 14 columns]"
      ]
     },
     "execution_count": 20,
     "metadata": {},
     "output_type": "execute_result"
    }
   ],
   "source": [
    "train"
   ]
  },
  {
   "cell_type": "markdown",
   "id": "framed-grounds",
   "metadata": {},
   "source": [
    "# Exploratory Data Analysis (E.D.A)"
   ]
  },
  {
   "cell_type": "markdown",
   "id": "killing-jason",
   "metadata": {},
   "source": [
    "## Visualizing categorical features "
   ]
  },
  {
   "cell_type": "code",
   "execution_count": null,
   "id": "chief-fabric",
   "metadata": {},
   "outputs": [],
   "source": [
    "train[\"Response\"].value_counts().plot.bar()"
   ]
  },
  {
   "cell_type": "code",
   "execution_count": null,
   "id": "earned-madison",
   "metadata": {},
   "outputs": [],
   "source": [
    "train[\"Reco_Insurance_Type\"].value_counts().plot.bar()"
   ]
  },
  {
   "cell_type": "code",
   "execution_count": null,
   "id": "premier-speaker",
   "metadata": {},
   "outputs": [],
   "source": [
    "train[\"City_Code\"].value_counts().plot.bar()"
   ]
  },
  {
   "cell_type": "code",
   "execution_count": null,
   "id": "proprietary-mouth",
   "metadata": {},
   "outputs": [],
   "source": [
    "train[\"Accomodation_Type\"].value_counts().plot.bar()"
   ]
  },
  {
   "cell_type": "code",
   "execution_count": null,
   "id": "appointed-logistics",
   "metadata": {},
   "outputs": [],
   "source": [
    "train[\"Is_Spouse\"].value_counts().plot.bar()"
   ]
  },
  {
   "cell_type": "code",
   "execution_count": null,
   "id": "spanish-reserve",
   "metadata": {},
   "outputs": [],
   "source": [
    "train[\"Health Indicator\"].value_counts().plot.bar()"
   ]
  },
  {
   "cell_type": "markdown",
   "id": "preliminary-legislation",
   "metadata": {},
   "source": [
    "##  Visualizing numerical features"
   ]
  },
  {
   "cell_type": "code",
   "execution_count": null,
   "id": "joint-replication",
   "metadata": {},
   "outputs": [],
   "source": [
    "sns.displot(train[\"Upper_Age\"])"
   ]
  },
  {
   "cell_type": "code",
   "execution_count": null,
   "id": "departmental-siemens",
   "metadata": {},
   "outputs": [],
   "source": [
    "sns.displot(train[\"Lower_Age\"])"
   ]
  },
  {
   "cell_type": "code",
   "execution_count": null,
   "id": "burning-treasure",
   "metadata": {},
   "outputs": [],
   "source": [
    "sns.displot(train[\"Holding_Policy_Type\"])"
   ]
  },
  {
   "cell_type": "code",
   "execution_count": null,
   "id": "optical-navigator",
   "metadata": {},
   "outputs": [],
   "source": [
    "sns.displot(train[\"Reco_Policy_Cat\"])"
   ]
  },
  {
   "cell_type": "code",
   "execution_count": null,
   "id": "blind-maple",
   "metadata": {},
   "outputs": [],
   "source": [
    "sns.displot(train[\"Region_Code\"])"
   ]
  },
  {
   "cell_type": "code",
   "execution_count": null,
   "id": "bulgarian-seven",
   "metadata": {},
   "outputs": [],
   "source": [
    "sns.displot(train[\"Reco_Policy_Premium\"])"
   ]
  },
  {
   "cell_type": "code",
   "execution_count": null,
   "id": "related-worst",
   "metadata": {},
   "outputs": [],
   "source": [
    "sns.displot(train[\"Holding_Policy_Duration\"])"
   ]
  },
  {
   "cell_type": "markdown",
   "id": "focused-spine",
   "metadata": {},
   "source": [
    "## Independent Variable "
   ]
  },
  {
   "cell_type": "code",
   "execution_count": null,
   "id": "eleven-twins",
   "metadata": {},
   "outputs": [],
   "source": [
    "sns.displot(train[\"Response\"])"
   ]
  },
  {
   "cell_type": "markdown",
   "id": "operating-flush",
   "metadata": {},
   "source": [
    "## Correlation Matrix "
   ]
  },
  {
   "cell_type": "code",
   "execution_count": null,
   "id": "bottom-freeze",
   "metadata": {},
   "outputs": [],
   "source": [
    "matrix = train.corr()\n",
    "f, ax = plt.subplots(figsize=(9, 6))\n",
    "sns.heatmap(matrix, vmax=.8, square=True, cmap=\"BuPu\");"
   ]
  },
  {
   "cell_type": "markdown",
   "id": "apart-international",
   "metadata": {},
   "source": [
    "## change format to csv "
   ]
  },
  {
   "cell_type": "code",
   "execution_count": 31,
   "id": "enhanced-vinyl",
   "metadata": {},
   "outputs": [],
   "source": [
    "train.to_csv(path_or_buf=r\"C:\\Users\\KOWSHIK REDDY\\Desktop\\Jupyter\\pip.csv\")"
   ]
  },
  {
   "cell_type": "markdown",
   "id": "accurate-anxiety",
   "metadata": {},
   "source": [
    "# Building Model"
   ]
  },
  {
   "cell_type": "markdown",
   "id": "spanish-boston",
   "metadata": {},
   "source": [
    "## Categorical Encoding "
   ]
  },
  {
   "cell_type": "code",
   "execution_count": null,
   "id": "rental-automation",
   "metadata": {
    "scrolled": true
   },
   "outputs": [],
   "source": [
    "# train data\n",
    "train = pd.get_dummies(train)\n",
    "train"
   ]
  },
  {
   "cell_type": "markdown",
   "id": "introductory-passing",
   "metadata": {},
   "source": [
    "## Training and Testing Analytical Data Set "
   ]
  },
  {
   "cell_type": "code",
   "execution_count": null,
   "id": "offshore-mailing",
   "metadata": {},
   "outputs": [],
   "source": [
    "# train data \n",
    "x = train.drop(\"Response\",axis=1)\n",
    "x.shape"
   ]
  },
  {
   "cell_type": "code",
   "execution_count": null,
   "id": "geological-clone",
   "metadata": {},
   "outputs": [],
   "source": [
    "y = train[\"Response\"]\n",
    "y.value_counts()"
   ]
  },
  {
   "cell_type": "code",
   "execution_count": null,
   "id": "instructional-horse",
   "metadata": {},
   "outputs": [],
   "source": [
    "# train data\n",
    "import sklearn\n",
    "from sklearn.model_selection import train_test_split\n",
    "x_train,x_test,y_train,y_test = train_test_split(x,y,test_size=0.2,random_state=13)"
   ]
  },
  {
   "cell_type": "code",
   "execution_count": null,
   "id": "logical-divide",
   "metadata": {},
   "outputs": [],
   "source": [
    "x_train.shape,x_test.shape,y_train.shape,y_test.shape"
   ]
  },
  {
   "cell_type": "markdown",
   "id": "powered-image",
   "metadata": {},
   "source": [
    "## Normalization "
   ]
  },
  {
   "cell_type": "code",
   "execution_count": null,
   "id": "compact-monkey",
   "metadata": {},
   "outputs": [],
   "source": [
    "# train data\n",
    "import sklearn\n",
    "from sklearn.preprocessing import MinMaxScaler\n",
    "scalar = MinMaxScaler()\n",
    "train = scalar.fit_transform(train)\n",
    "train"
   ]
  },
  {
   "cell_type": "markdown",
   "id": "adult-tolerance",
   "metadata": {},
   "source": [
    "## Building Algorithms"
   ]
  },
  {
   "cell_type": "markdown",
   "id": "pleasant-auckland",
   "metadata": {},
   "source": [
    "### Logistic Regression "
   ]
  },
  {
   "cell_type": "code",
   "execution_count": null,
   "id": "aware-noise",
   "metadata": {},
   "outputs": [],
   "source": [
    "import sklearn\n",
    "from sklearn.linear_model import LogisticRegression\n",
    "logsistic_train = LogisticRegression()\n",
    "logsistic_train.fit(x_train,y_train)"
   ]
  },
  {
   "cell_type": "code",
   "execution_count": null,
   "id": "posted-state",
   "metadata": {},
   "outputs": [],
   "source": [
    "y_pred_log = logsistic_train.predict(x_test)\n",
    "\n",
    "from sklearn.metrics import accuracy_score\n",
    "\n",
    "accuracy = accuracy_score(y_test,y_pred_log)\n",
    "accuracy"
   ]
  },
  {
   "cell_type": "code",
   "execution_count": null,
   "id": "coordinated-castle",
   "metadata": {},
   "outputs": [],
   "source": [
    "print(\"Accuracy: %.2f%%\" % (accuracy * 100.0))"
   ]
  },
  {
   "cell_type": "markdown",
   "id": "sharp-offering",
   "metadata": {},
   "source": [
    "### Decision Tree "
   ]
  },
  {
   "cell_type": "code",
   "execution_count": null,
   "id": "operating-diary",
   "metadata": {},
   "outputs": [],
   "source": [
    "import sklearn\n",
    "from sklearn import tree\n",
    "classifier = tree.DecisionTreeClassifier(random_state=13)\n",
    "classifier.fit(x_train,y_train)\n",
    "pred = classifier.predict(x_test)\n",
    "\n",
    "from sklearn import metrics as m\n",
    "# accuracy\n",
    "accuracy = m.accuracy_score(y_test,pred)\n",
    "accuracy"
   ]
  },
  {
   "cell_type": "code",
   "execution_count": null,
   "id": "material-silicon",
   "metadata": {},
   "outputs": [],
   "source": [
    "print(\"Accuracy: %.2f%%\" % (accuracy * 100.0))"
   ]
  },
  {
   "cell_type": "markdown",
   "id": "unique-potato",
   "metadata": {},
   "source": [
    "### Random Forest "
   ]
  },
  {
   "cell_type": "code",
   "execution_count": null,
   "id": "intellectual-somalia",
   "metadata": {},
   "outputs": [],
   "source": [
    "import sklearn\n",
    "from sklearn.ensemble import RandomForestClassifier\n",
    "classifier = RandomForestClassifier(n_estimators=500)\n",
    "classifier.fit(x_train,y_train)\n",
    "pred = classifier.predict(x_test)\n",
    "\n",
    "from sklearn import metrics as m\n",
    "# accuracy\n",
    "accuracy = m.accuracy_score(y_test,pred)\n",
    "accuracy"
   ]
  },
  {
   "cell_type": "code",
   "execution_count": null,
   "id": "smaller-alpha",
   "metadata": {},
   "outputs": [],
   "source": [
    "print(\"Accuracy: %.2f%%\" % (accuracy * 100.0))"
   ]
  },
  {
   "cell_type": "markdown",
   "id": "received-sugar",
   "metadata": {},
   "source": [
    "### Naïve Bayes "
   ]
  },
  {
   "cell_type": "code",
   "execution_count": null,
   "id": "sustainable-asset",
   "metadata": {},
   "outputs": [],
   "source": [
    "import sklearn\n",
    "from sklearn.naive_bayes import GaussianNB\n",
    "classifier = GaussianNB()\n",
    "classifier.fit(x_train,y_train)\n",
    "pred = classifier.predict(x_test)\n",
    "\n",
    "from sklearn import metrics as m\n",
    "# accuracy\n",
    "accuracy = m.accuracy_score(y_test,pred)\n",
    "accuracy"
   ]
  },
  {
   "cell_type": "code",
   "execution_count": null,
   "id": "awful-certification",
   "metadata": {},
   "outputs": [],
   "source": [
    "print(\"Accuracy: %.2f%%\" % (accuracy * 100.0))"
   ]
  },
  {
   "cell_type": "markdown",
   "id": "applied-colony",
   "metadata": {},
   "source": [
    "### Support Vector Machine "
   ]
  },
  {
   "cell_type": "code",
   "execution_count": null,
   "id": "aerial-representative",
   "metadata": {},
   "outputs": [],
   "source": [
    "import sklearn\n",
    "from sklearn.svm import SVC\n",
    "classifier = SVC(random_state=13)\n",
    "classifier.fit(x_train,y_train)\n",
    "pred = classifier.predict(x_test)\n",
    "\n",
    "from sklearn import metrics as m\n",
    "# accuracy\n",
    "accuracy = m.accuracy_score(y_test,pred)\n",
    "accuracy"
   ]
  },
  {
   "cell_type": "code",
   "execution_count": null,
   "id": "abandoned-beatles",
   "metadata": {},
   "outputs": [],
   "source": [
    "print(\"Accuracy: %.2f%%\" % (accuracy * 100.0))"
   ]
  },
  {
   "cell_type": "markdown",
   "id": "surprised-triangle",
   "metadata": {},
   "source": [
    "# Saving File To CSV file"
   ]
  },
  {
   "cell_type": "code",
   "execution_count": 33,
   "id": "amended-proxy",
   "metadata": {},
   "outputs": [],
   "source": [
    "train.to_csv(path_or_buf=r\"C:\\Users\\KOWSHIK REDDY\\Desktop\\Jupyter\\data.csv\")"
   ]
  },
  {
   "cell_type": "markdown",
   "id": "altered-plaintiff",
   "metadata": {},
   "source": [
    "# Conclusion "
   ]
  },
  {
   "cell_type": "markdown",
   "id": "herbal-cincinnati",
   "metadata": {},
   "source": [
    "1. finally, i conclude that data set is completely modified.\n",
    "2. final predictions on this data set are :=\n",
    "    Logistic Regression      = 76.32%\n",
    "    Decision Tree           = 67.20%\n",
    "    Random Forest           = 76.20%\n",
    "    Naive Bayes             = 76.32%\n",
    "    Support Vector Machines = 76.32%"
   ]
  }
 ],
 "metadata": {
  "kernelspec": {
   "display_name": "Python 3",
   "language": "python",
   "name": "python3"
  },
  "language_info": {
   "codemirror_mode": {
    "name": "ipython",
    "version": 3
   },
   "file_extension": ".py",
   "mimetype": "text/x-python",
   "name": "python",
   "nbconvert_exporter": "python",
   "pygments_lexer": "ipython3",
   "version": "3.9.2"
  },
  "toc": {
   "base_numbering": 1,
   "nav_menu": {},
   "number_sections": true,
   "sideBar": true,
   "skip_h1_title": false,
   "title_cell": "Table of Contents",
   "title_sidebar": "Contents",
   "toc_cell": false,
   "toc_position": {
    "height": "calc(100% - 180px)",
    "left": "10px",
    "top": "150px",
    "width": "243.188px"
   },
   "toc_section_display": true,
   "toc_window_display": true
  },
  "varInspector": {
   "cols": {
    "lenName": 16,
    "lenType": 16,
    "lenVar": 40
   },
   "kernels_config": {
    "python": {
     "delete_cmd_postfix": "",
     "delete_cmd_prefix": "del ",
     "library": "var_list.py",
     "varRefreshCmd": "print(var_dic_list())"
    },
    "r": {
     "delete_cmd_postfix": ") ",
     "delete_cmd_prefix": "rm(",
     "library": "var_list.r",
     "varRefreshCmd": "cat(var_dic_list()) "
    }
   },
   "types_to_exclude": [
    "module",
    "function",
    "builtin_function_or_method",
    "instance",
    "_Feature"
   ],
   "window_display": false
  }
 },
 "nbformat": 4,
 "nbformat_minor": 5
}
